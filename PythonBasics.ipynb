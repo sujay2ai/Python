{
  "nbformat": 4,
  "nbformat_minor": 0,
  "metadata": {
    "colab": {
      "name": "PythonBasics.ipynb",
      "provenance": [],
      "authorship_tag": "ABX9TyOKnpSR7u6DMD4Xzik3WOTJ",
      "include_colab_link": true
    },
    "kernelspec": {
      "name": "python3",
      "display_name": "Python 3"
    },
    "language_info": {
      "name": "python"
    }
  },
  "cells": [
    {
      "cell_type": "markdown",
      "metadata": {
        "id": "view-in-github",
        "colab_type": "text"
      },
      "source": [
        "<a href=\"https://colab.research.google.com/github/VitikaJain25/Python/blob/main/PythonBasics.ipynb\" target=\"_parent\"><img src=\"https://colab.research.google.com/assets/colab-badge.svg\" alt=\"Open In Colab\"/></a>"
      ]
    },
    {
      "cell_type": "code",
      "execution_count": 1,
      "metadata": {
        "colab": {
          "base_uri": "https://localhost:8080/"
        },
        "id": "jEqScZlpDH1O",
        "outputId": "f45d87ce-4244-4976-9a01-c2852ef78b08"
      },
      "outputs": [
        {
          "output_type": "stream",
          "name": "stdout",
          "text": [
            "Hello VitVin\n"
          ]
        }
      ],
      "source": [
        "print(\"Hello VitVin\")"
      ]
    },
    {
      "cell_type": "markdown",
      "source": [
        "## **Tuples, Strings, Loops, Variables**\n",
        "\n",
        "*   Cannot start a variable with a number, but a variable may include numbers.\n",
        "*   Tuples in python are immutable. We cannot change it (add or remove from it).\n",
        "*   We can use a tuple in program where we do not want to change it.\n",
        "*   List can be changed/edited and hence are mutable.\n",
        "\n",
        "\n",
        "\n",
        "\n",
        "\n",
        "\n"
      ],
      "metadata": {
        "id": "qS_dgzsEFJ_X"
      }
    },
    {
      "cell_type": "code",
      "source": [
        "programming_languages = \"python\", \"Java\", \"C++\", \"C#\"\n",
        "# We can also write a tuple as below: (enclosed in round bracets)\n",
        "# programming_languages = (\"python\", \"Java\", \"C++\", \"C#\")"
      ],
      "metadata": {
        "id": "BFA1IjQoFS5M"
      },
      "execution_count": 2,
      "outputs": []
    },
    {
      "cell_type": "code",
      "source": [
        "print(type(programming_languages))"
      ],
      "metadata": {
        "colab": {
          "base_uri": "https://localhost:8080/"
        },
        "id": "0e2WM5vpG6Aa",
        "outputId": "8754b18f-d81c-4bc1-9db1-46ee920f4b4e"
      },
      "execution_count": 4,
      "outputs": [
        {
          "output_type": "stream",
          "name": "stdout",
          "text": [
            "<class 'tuple'>\n"
          ]
        }
      ]
    },
    {
      "cell_type": "code",
      "source": [
        "for language in programming_languages:\n",
        "  print(language)"
      ],
      "metadata": {
        "colab": {
          "base_uri": "https://localhost:8080/"
        },
        "id": "bcGW6LM4IE9x",
        "outputId": "5c0123aa-d388-4329-a55b-03160b8e2310"
      },
      "execution_count": 5,
      "outputs": [
        {
          "output_type": "stream",
          "name": "stdout",
          "text": [
            "python\n",
            "Java\n",
            "C++\n",
            "C#\n"
          ]
        }
      ]
    },
    {
      "cell_type": "markdown",
      "source": [
        "## **Lists and Tic Tac Toe Game**"
      ],
      "metadata": {
        "id": "bH70VI3_Riml"
      }
    },
    {
      "cell_type": "code",
      "source": [
        "game = [[0, 0, 0], \n",
        "        [0, 0, 0],\n",
        "        [0, 0, 0]]\n",
        "print (game)\n",
        "print(type(game))"
      ],
      "metadata": {
        "colab": {
          "base_uri": "https://localhost:8080/"
        },
        "id": "n5J5bgMYRmdq",
        "outputId": "64770693-d4c6-4827-b470-d7d6ddf935c4"
      },
      "execution_count": 11,
      "outputs": [
        {
          "output_type": "stream",
          "name": "stdout",
          "text": [
            "[[0, 0, 0], [0, 0, 0], [0, 0, 0]]\n",
            "<class 'list'>\n"
          ]
        }
      ]
    },
    {
      "cell_type": "code",
      "source": [
        "for row in game:\n",
        "  print(row)"
      ],
      "metadata": {
        "colab": {
          "base_uri": "https://localhost:8080/"
        },
        "id": "sM6WCvUBTWdm",
        "outputId": "49d08f68-a7c2-4179-eb9e-5f6daa5c7b28"
      },
      "execution_count": 13,
      "outputs": [
        {
          "output_type": "stream",
          "name": "stdout",
          "text": [
            "[0, 0, 0]\n",
            "[0, 0, 0]\n",
            "[0, 0, 0]\n"
          ]
        }
      ]
    },
    {
      "cell_type": "markdown",
      "source": [
        "## **Built In Functions**"
      ],
      "metadata": {
        "id": "T7jkgRMHT1Tl"
      }
    },
    {
      "cell_type": "code",
      "source": [
        "# Option 1 - Not good programming.\n",
        "print(\"   a  b  c\")\n",
        "count = 0\n",
        "for row in game:\n",
        "  print(count, row)\n",
        "  count = count+1"
      ],
      "metadata": {
        "colab": {
          "base_uri": "https://localhost:8080/"
        },
        "id": "q8ko5W26T093",
        "outputId": "22b9f221-981c-452e-e770-e5d9ccce8e70"
      },
      "execution_count": 38,
      "outputs": [
        {
          "output_type": "stream",
          "name": "stdout",
          "text": [
            "   a  b  c\n",
            "0 [0, 0, 0]\n",
            "1 [0, 0, 0]\n",
            "2 [0, 0, 0]\n"
          ]
        }
      ]
    },
    {
      "cell_type": "code",
      "source": [
        "# Doing the same using \"enumerate\" built in function.\n",
        "print(\"   a  b  c\")\n",
        "for count, row in enumerate(game):\n",
        "  print(count, row)"
      ],
      "metadata": {
        "colab": {
          "base_uri": "https://localhost:8080/"
        },
        "id": "1SCY9Tq4WQvb",
        "outputId": "844038c9-5820-49d6-8cb4-5661e0900e72"
      },
      "execution_count": 39,
      "outputs": [
        {
          "output_type": "stream",
          "name": "stdout",
          "text": [
            "   a  b  c\n",
            "0 [0, 0, 0]\n",
            "1 [0, 0, 0]\n",
            "2 [0, 0, 0]\n"
          ]
        }
      ]
    },
    {
      "cell_type": "code",
      "source": [
        "#Extras\n",
        "list1 = [1,2,3,4,5]\n",
        "for index, value in enumerate(list1):\n",
        "  print(index, value)\n",
        "  print(type((index, value)))"
      ],
      "metadata": {
        "colab": {
          "base_uri": "https://localhost:8080/"
        },
        "id": "8TXvX0H4WrO3",
        "outputId": "d05848e0-398f-405a-df2f-d195e6e8a9bb"
      },
      "execution_count": 36,
      "outputs": [
        {
          "output_type": "stream",
          "name": "stdout",
          "text": [
            "0 1\n",
            "<class 'tuple'>\n",
            "1 2\n",
            "<class 'tuple'>\n",
            "2 3\n",
            "<class 'tuple'>\n",
            "3 4\n",
            "<class 'tuple'>\n",
            "4 5\n",
            "<class 'tuple'>\n"
          ]
        }
      ]
    },
    {
      "cell_type": "code",
      "source": [
        "#Extras\n",
        "for item in enumerate(list1):\n",
        "  print(item)\n",
        "  print(type(item))"
      ],
      "metadata": {
        "colab": {
          "base_uri": "https://localhost:8080/"
        },
        "id": "PWjYDQ0DXkwH",
        "outputId": "b2458ce3-24ae-4fa6-a263-8af6b1c0e14d"
      },
      "execution_count": 35,
      "outputs": [
        {
          "output_type": "stream",
          "name": "stdout",
          "text": [
            "(0, 1)\n",
            "<class 'tuple'>\n",
            "(1, 2)\n",
            "<class 'tuple'>\n",
            "(2, 3)\n",
            "<class 'tuple'>\n",
            "(3, 4)\n",
            "<class 'tuple'>\n",
            "(4, 5)\n",
            "<class 'tuple'>\n"
          ]
        }
      ]
    },
    {
      "cell_type": "markdown",
      "source": [
        "## **Indexes And Slices**"
      ],
      "metadata": {
        "id": "AI1l5ppGZRms"
      }
    },
    {
      "cell_type": "code",
      "source": [
        "#to refrence a item in list.\n",
        "l = [1,2,3,4,5]\n",
        "print(l[1]) # referencing the 2nd item\n",
        "#to reference last item:\n",
        "print(l[4])\n",
        "#OR\n",
        "print(l[-1])"
      ],
      "metadata": {
        "colab": {
          "base_uri": "https://localhost:8080/"
        },
        "id": "hmaHVGnGZI_v",
        "outputId": "50e20de5-1c78-4962-a7e7-38c9cf689d50"
      },
      "execution_count": 41,
      "outputs": [
        {
          "output_type": "stream",
          "name": "stdout",
          "text": [
            "2\n",
            "5\n",
            "5\n"
          ]
        }
      ]
    },
    {
      "cell_type": "code",
      "source": [
        "#to refrence a slice in list.\n",
        "l = [1,2,3,4,5]\n",
        "print(l[1:2]) #Print 1st to 3rd index. (3rd index not included)\n",
        "print(l[2:]) #Print everything after 2nd index."
      ],
      "metadata": {
        "colab": {
          "base_uri": "https://localhost:8080/"
        },
        "id": "F73kryXeaEF7",
        "outputId": "4d1cf8af-1b17-44cf-c217-91be8bf74cbb"
      },
      "execution_count": 45,
      "outputs": [
        {
          "output_type": "stream",
          "name": "stdout",
          "text": [
            "[2]\n",
            "[3, 4, 5]\n"
          ]
        }
      ]
    },
    {
      "cell_type": "code",
      "source": [
        "l = [1,2,3,4,5,6,7]\n",
        "print(l[1:-2])"
      ],
      "metadata": {
        "colab": {
          "base_uri": "https://localhost:8080/"
        },
        "id": "X9lk5Ut3aq5T",
        "outputId": "b58b390b-6ad0-4d58-c6d3-94b0370ff796"
      },
      "execution_count": 47,
      "outputs": [
        {
          "output_type": "stream",
          "name": "stdout",
          "text": [
            "[2, 3, 4, 5]\n"
          ]
        }
      ]
    },
    {
      "cell_type": "code",
      "source": [
        "#Set specific Index.\n",
        "l = [1,2,3,4,5]\n",
        "print(l)\n",
        "l[1]=99\n",
        "print(l)"
      ],
      "metadata": {
        "colab": {
          "base_uri": "https://localhost:8080/"
        },
        "id": "Em-sJHkLbYfu",
        "outputId": "4b3bb6a6-0be7-4798-9c35-dc4ea75b6978"
      },
      "execution_count": 49,
      "outputs": [
        {
          "output_type": "stream",
          "name": "stdout",
          "text": [
            "[1, 2, 3, 4, 5]\n",
            "[1, 99, 3, 4, 5]\n"
          ]
        }
      ]
    },
    {
      "cell_type": "code",
      "source": [
        "#Coming back to the game\n",
        "print(\"   a  b  c\")\n",
        "for count, row in enumerate(game):\n",
        "  print(count, row)"
      ],
      "metadata": {
        "colab": {
          "base_uri": "https://localhost:8080/"
        },
        "id": "utKNxrTzbnV0",
        "outputId": "c2f55ed9-71fe-4921-ac49-82efb043b596"
      },
      "execution_count": 50,
      "outputs": [
        {
          "output_type": "stream",
          "name": "stdout",
          "text": [
            "   a  b  c\n",
            "0 [0, 0, 0]\n",
            "1 [0, 0, 0]\n",
            "2 [0, 0, 0]\n"
          ]
        }
      ]
    },
    {
      "cell_type": "code",
      "source": [
        "game = [[0, 0, 0], \n",
        "        [0, 0, 0],\n",
        "        [0, 0, 0]]\n",
        "\n",
        "game[0][1] = 1\n",
        "\n",
        "print(\"   a  b  c\")\n",
        "for count, row in enumerate(game):\n",
        "  print(count, row)"
      ],
      "metadata": {
        "colab": {
          "base_uri": "https://localhost:8080/"
        },
        "id": "3PmxnvEMb4Sg",
        "outputId": "33adc107-5883-49d0-d85f-358744044609"
      },
      "execution_count": 54,
      "outputs": [
        {
          "output_type": "stream",
          "name": "stdout",
          "text": [
            "   a  b  c\n",
            "0 [0, 1, 0]\n",
            "1 [0, 0, 0]\n",
            "2 [0, 0, 0]\n"
          ]
        }
      ]
    },
    {
      "cell_type": "markdown",
      "source": [
        "## **Functions**\n",
        "\n",
        "*   Now everytime we want to print the game map.\n",
        "*   We will have to run the bunch of code evertime.\n",
        "*   So, we use functions, instead of repeating code everytime.\n",
        "*   To avoid repetition of code and reduce code size."
      ],
      "metadata": {
        "id": "kR_zr5C-cetJ"
      }
    },
    {
      "cell_type": "code",
      "source": [
        "game = [[0, 0, 0], \n",
        "        [0, 0, 0],\n",
        "        [0, 0, 0]]\n",
        "\n",
        "\n",
        "#This function just prints, does not modify anything.\n",
        "def game_board():\n",
        "  print(\"   a  b  c\")\n",
        "  for count, row in enumerate(game):\n",
        "    print(count, row)\n",
        "\n",
        "game_board()\n",
        "\n",
        "#Making a move in the game\n",
        "game[0][1] = 1\n",
        "\n",
        "#Again printing game map.\n",
        "game_board()"
      ],
      "metadata": {
        "colab": {
          "base_uri": "https://localhost:8080/"
        },
        "id": "bAd58HpTceP6",
        "outputId": "ec0432c1-1984-4d48-e5c3-57e5490c0fb1"
      },
      "execution_count": 59,
      "outputs": [
        {
          "output_type": "stream",
          "name": "stdout",
          "text": [
            "   a  b  c\n",
            "0 [0, 0, 0]\n",
            "1 [0, 0, 0]\n",
            "2 [0, 0, 0]\n",
            "   a  b  c\n",
            "0 [0, 1, 0]\n",
            "1 [0, 0, 0]\n",
            "2 [0, 0, 0]\n"
          ]
        }
      ]
    },
    {
      "cell_type": "markdown",
      "source": [
        "## **Function with parameters **\n",
        "To get input from the user to modify the game board."
      ],
      "metadata": {
        "id": "WyYj3oQRgF0d"
      }
    },
    {
      "cell_type": "code",
      "source": [
        "#simple function with parameters\n",
        "\n",
        "def addition(x,y):\n",
        "  return x+y\n",
        "\n",
        "#Adding 2 numbers.\n",
        "z = addition(3,4)\n",
        "print(z)\n",
        "\n",
        "#adding 2 strings.\n",
        "z = addition(\"hey\",\" there\")\n",
        "print(z)"
      ],
      "metadata": {
        "colab": {
          "base_uri": "https://localhost:8080/"
        },
        "id": "a7BuMfKPgtO0",
        "outputId": "da6d8166-8236-4e74-97f6-503422e29283"
      },
      "execution_count": 68,
      "outputs": [
        {
          "output_type": "stream",
          "name": "stdout",
          "text": [
            "7\n",
            "hey there\n"
          ]
        }
      ]
    },
    {
      "cell_type": "code",
      "source": [
        "#Error as we are trying to add a number and a string.\n",
        "z = addition(3,\"hello\")\n",
        "print(z)"
      ],
      "metadata": {
        "colab": {
          "base_uri": "https://localhost:8080/",
          "height": 317
        },
        "id": "_9whUzIyg8h3",
        "outputId": "c607741b-fda5-4274-eed8-3234d1d31075"
      },
      "execution_count": 65,
      "outputs": [
        {
          "output_type": "error",
          "ename": "TypeError",
          "evalue": "ignored",
          "traceback": [
            "\u001b[0;31m---------------------------------------------------------------------------\u001b[0m",
            "\u001b[0;31mTypeError\u001b[0m                                 Traceback (most recent call last)",
            "\u001b[0;32m<ipython-input-65-6e801ad044e6>\u001b[0m in \u001b[0;36m<module>\u001b[0;34m()\u001b[0m\n\u001b[1;32m      1\u001b[0m \u001b[0;31m#Error as we are trying to add a number and a string.\u001b[0m\u001b[0;34m\u001b[0m\u001b[0;34m\u001b[0m\u001b[0;34m\u001b[0m\u001b[0m\n\u001b[0;32m----> 2\u001b[0;31m \u001b[0mz\u001b[0m \u001b[0;34m=\u001b[0m \u001b[0maddition\u001b[0m\u001b[0;34m(\u001b[0m\u001b[0;36m3\u001b[0m\u001b[0;34m,\u001b[0m\u001b[0;34m\"hello\"\u001b[0m\u001b[0;34m)\u001b[0m\u001b[0;34m\u001b[0m\u001b[0;34m\u001b[0m\u001b[0m\n\u001b[0m\u001b[1;32m      3\u001b[0m \u001b[0mprint\u001b[0m\u001b[0;34m(\u001b[0m\u001b[0mz\u001b[0m\u001b[0;34m)\u001b[0m\u001b[0;34m\u001b[0m\u001b[0;34m\u001b[0m\u001b[0m\n",
            "\u001b[0;32m<ipython-input-63-10db92d53fbe>\u001b[0m in \u001b[0;36maddition\u001b[0;34m(x, y)\u001b[0m\n\u001b[1;32m      2\u001b[0m \u001b[0;34m\u001b[0m\u001b[0m\n\u001b[1;32m      3\u001b[0m \u001b[0;32mdef\u001b[0m \u001b[0maddition\u001b[0m\u001b[0;34m(\u001b[0m\u001b[0mx\u001b[0m\u001b[0;34m,\u001b[0m\u001b[0my\u001b[0m\u001b[0;34m)\u001b[0m\u001b[0;34m:\u001b[0m\u001b[0;34m\u001b[0m\u001b[0;34m\u001b[0m\u001b[0m\n\u001b[0;32m----> 4\u001b[0;31m   \u001b[0;32mreturn\u001b[0m \u001b[0mx\u001b[0m\u001b[0;34m+\u001b[0m\u001b[0my\u001b[0m\u001b[0;34m\u001b[0m\u001b[0;34m\u001b[0m\u001b[0m\n\u001b[0m\u001b[1;32m      5\u001b[0m \u001b[0;34m\u001b[0m\u001b[0m\n\u001b[1;32m      6\u001b[0m \u001b[0mz\u001b[0m \u001b[0;34m=\u001b[0m \u001b[0maddition\u001b[0m\u001b[0;34m(\u001b[0m\u001b[0;36m3\u001b[0m\u001b[0;34m,\u001b[0m\u001b[0;36m4\u001b[0m\u001b[0;34m)\u001b[0m\u001b[0;34m\u001b[0m\u001b[0;34m\u001b[0m\u001b[0m\n",
            "\u001b[0;31mTypeError\u001b[0m: unsupported operand type(s) for +: 'int' and 'str'"
          ]
        }
      ]
    },
    {
      "cell_type": "code",
      "source": [
        "game = [[0, 0, 0], \n",
        "        [0, 0, 0],\n",
        "        [0, 0, 0]]\n",
        "\n",
        "\n",
        "#This function now prints and modifies values.\n",
        "def game_board(player, row, column):\n",
        "  game[row][column] = player\n",
        "  print(\"   a  b  c\")\n",
        "  for count, row in enumerate(game):\n",
        "    print(count, row)\n",
        "\n",
        "game_board(1,0,1)\n",
        "game_board(1,2,1)"
      ],
      "metadata": {
        "colab": {
          "base_uri": "https://localhost:8080/"
        },
        "id": "x0eTB0QWgSCm",
        "outputId": "61bc42d5-dd80-4846-e055-681dfdf3135a"
      },
      "execution_count": 77,
      "outputs": [
        {
          "output_type": "stream",
          "name": "stdout",
          "text": [
            "   a  b  c\n",
            "0 [0, 1, 0]\n",
            "1 [0, 0, 0]\n",
            "2 [0, 0, 0]\n",
            "   a  b  c\n",
            "0 [0, 1, 0]\n",
            "1 [0, 0, 0]\n",
            "2 [0, 1, 0]\n"
          ]
        }
      ]
    }
  ]
}